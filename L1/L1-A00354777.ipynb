{
 "cells": [
  {
   "cell_type": "markdown",
   "metadata": {
    "colab_type": "text",
    "id": "v3SZ63cZcnhX"
   },
   "source": [
    "# **Development Exercises – L1**\n",
    "### **Created by Ramses Alexander Coraspe Valdez**\n",
    "### **Created on February 18, 2020**"
   ]
  },
  {
   "cell_type": "code",
   "execution_count": 0,
   "metadata": {
    "colab": {},
    "colab_type": "code",
    "id": "o4js0orOxKbo"
   },
   "outputs": [],
   "source": [
    "import random\n",
    "import math"
   ]
  },
  {
   "cell_type": "markdown",
   "metadata": {
    "colab_type": "text",
    "id": "98NQ_7wruQiP"
   },
   "source": [
    "**1. Ask the user for a number. Depending on whether the number is even or odd, print out an appropriate message to the user.  Hint: how does an even / odd number react differently when divided by 2? If the number is a multiple of 4, print out a different message. Ask the user for two numbers: one number to check (call it num) and one number to divide by (check). If check divides evenly into num tell that to the user. If not, print a different appropriate message.**"
   ]
  },
  {
   "cell_type": "code",
   "execution_count": 5,
   "metadata": {
    "colab": {
     "base_uri": "https://localhost:8080/",
     "height": 86
    },
    "colab_type": "code",
    "id": "wbrSrTn4qpY-",
    "outputId": "cb5c25ed-a319-46c7-ffd5-2dda6a11cb1c"
   },
   "outputs": [
    {
     "name": "stdout",
     "output_type": "stream",
     "text": [
      "supply the number to check:6\n",
      "supply the number to check:6\n",
      "6 even number\n",
      "6 divides by 6\n"
     ]
    }
   ],
   "source": [
    "in1= input(\"supply the number to check:\");\n",
    "in2= input(\"supply the number to divide:\");\n",
    "num = int(in1)\n",
    "check = int(in2)\n",
    "\n",
    "if (num % 4) == 0:\n",
    "    print(num, \"multiple of 4\")\n",
    "elif (num % 2) == 0:\n",
    "    print(num, \"even number\")\n",
    "else:\n",
    "    print(num, \"odd number\")\n",
    "\n",
    "if (num % check) == 0:\n",
    "    print(num, \"divides by\", check)\n",
    "else:\n",
    "    print(num, \"does not divide by\", check)"
   ]
  },
  {
   "cell_type": "markdown",
   "metadata": {
    "colab_type": "text",
    "id": "Na_rvyeAwIt0"
   },
   "source": [
    "**2. Generate a random number between 1 and 9 (including 1 and 9). Ask the user to guess the number, then tell them whether they guessed too low, too high, or exactly right. (Hint: remember to use the user input lessons from the very first exercise) Keep the game going until the user types “exit” Keep track of how many guesses the user has taken, and when the game ends, print this out.**"
   ]
  },
  {
   "cell_type": "code",
   "execution_count": 6,
   "metadata": {
    "colab": {
     "base_uri": "https://localhost:8080/",
     "height": 138
    },
    "colab_type": "code",
    "id": "hJIhtgtRwJfG",
    "outputId": "002aac98-5b4b-4998-cd9c-6c7f85899e52"
   },
   "outputs": [
    {
     "name": "stdout",
     "output_type": "stream",
     "text": [
      "Guess the number between 1 to 9 (Enter 'exit' to exit): 6\n",
      "High\n",
      "Guess the number between 1 to 9 (Enter 'exit' to exit): 5\n",
      "High\n",
      "Guess the number between 1 to 9 (Enter 'exit' to exit): exit\n",
      "exit\n"
     ]
    },
    {
     "data": {
      "text/plain": [
       "'exit'"
      ]
     },
     "execution_count": 6,
     "metadata": {
      "tags": []
     },
     "output_type": "execute_result"
    }
   ],
   "source": [
    "t = 0\n",
    "g = 0 \n",
    "r = random.randint(1,9) \n",
    "\n",
    "while g != \"exit\" and g != r:\n",
    "    g = input(\"Guess the number between 1 to 9 (Enter 'exit' to exit): \")\n",
    "\n",
    "    if g == \"exit\": break\n",
    "    \n",
    "    t += 1\n",
    "    g = int(g)\n",
    "    \n",
    "    if g < r:\n",
    "        print(\"Low\")\n",
    "    elif g > r:\n",
    "        print(\"High\")\n",
    "    else:\n",
    "        print(\"Right\")\n",
    "        print(t, \"attempts\")\n",
    "input()"
   ]
  },
  {
   "cell_type": "markdown",
   "metadata": {
    "colab_type": "text",
    "id": "COdG-eVNznie"
   },
   "source": [
    "**3. Write a program (function!) that takes a list and returns a new list that contains all the elements of the first list minus all the duplicates. Write two different functions to do this - one using a loop and constructing a list, and another using sets.**"
   ]
  },
  {
   "cell_type": "code",
   "execution_count": 7,
   "metadata": {
    "colab": {
     "base_uri": "https://localhost:8080/",
     "height": 69
    },
    "colab_type": "code",
    "id": "0oTkvAcWzupl",
    "outputId": "0e1e8d13-0d36-4e4f-9d29-644437070182"
   },
   "outputs": [
    {
     "name": "stdout",
     "output_type": "stream",
     "text": [
      "['a', 1, 'b', 0, 'b', 1, 'e', 'r', 't', 'p', 'q']\n",
      "['a', 1, 'b', 0, 'e', 'r', 't', 'p', 'q']\n",
      "[0, 1, 'r', 'b', 't', 'a', 'e', 'q', 'p']\n"
     ]
    }
   ],
   "source": [
    "#loop\n",
    "def f1(l):\n",
    "  y = []\n",
    "  for i in l:\n",
    "    if i not in y:\n",
    "      y.append(i)\n",
    "  return y\n",
    "\n",
    "#sets\n",
    "def f2(l):\n",
    "    return list(set(l))\n",
    "\n",
    "l = ['a',1,'b',0,'b',1,'e','r','t','p','q']\n",
    "print(l)\n",
    "print(f1(l))\n",
    "print(f2(l))"
   ]
  },
  {
   "cell_type": "markdown",
   "metadata": {
    "colab_type": "text",
    "id": "0CJ0Py5f_C0z"
   },
   "source": [
    "**4. Write a function that computes the standard deviation for a set of numbers coming from a list. Do not use any math module, compute the algorithm**"
   ]
  },
  {
   "cell_type": "code",
   "execution_count": 8,
   "metadata": {
    "colab": {
     "base_uri": "https://localhost:8080/",
     "height": 34
    },
    "colab_type": "code",
    "id": "qQ5D5tUT_CCJ",
    "outputId": "18c1216e-6502-41ec-adc5-9668d48af661"
   },
   "outputs": [
    {
     "name": "stdout",
     "output_type": "stream",
     "text": [
      "2762.7\n"
     ]
    }
   ],
   "source": [
    "def s_dev(d):\n",
    "    m = sum(d)/len(d)\n",
    "    v = sum([((i - m) ** 2) for i in d]) / len(d)\n",
    "    return  v ** 0.5\n",
    "    \n",
    "data = [1880,9914,5528,4723,2391,4551,8623,9827,3084,618,4176,3621,5736,7045,7208,2281,7243,5924,8083,3234,6329,9100,6648,5793,118,6587,1602,2671,7934,9599,7470,3952,\n",
    "        4655,5911,4960,4094,7628,2197,7539,9677,5980,8893,3996,8506,2394,3878,3570,5102,2592,4216,6094,6428,8218,6442,22,1239,1329,1890,5971,5005,3017,6068,3793,8516,\n",
    "        1704,8612,1799,7570,8573,2596,3261,5036,3084,8389,3417,5529,3176,8680,4820,9513,6956,9925,8161,6512,4462,4993,6835,7589,3744,8090,9415,7266,7304,8924,6049,1400,\n",
    "        974,5351,2888,2072,1968,2228,643,4688,8559,9520,1281,6468,7903,1188,8281,250,3227,9948,3093,6592,6108,389,404,675,9485,8663,2220,8341,7233,7143,4691,8515,\n",
    "        7685,7557,7505,8193,5845,6418,6567,4749,2025,2056,3283,9230,4739,4247,256,7381,8409,3754,7497,9650,2157,6929,7029,2241,8421,5755,3265,4580,6164,827,8763,5487,\n",
    "        6815,1710,3179,8233,456,6374,8124,9118,2660,1950,6585,7101,8697,3922,8850,9136,9292,8734,7146,1968,2688,4698,4299,258,9309,6497,8184,8162,6389,2567,9396,5664,\n",
    "        7143,7457,4676,6819,6042,4392,1769,1691,2078,2499,4807,2259,1428,5162,1951,1337]\n",
    "\n",
    "print(\"{0:0.1f}\".format(s_dev(data)))"
   ]
  },
  {
   "cell_type": "markdown",
   "metadata": {
    "colab_type": "text",
    "id": "DJuYUakk7hsD"
   },
   "source": [
    "**5. Write a function that receives as parameters how many Fibonnaci numbers to generate and then generates them. Take this opportunity to think about how you can use functions. Make sure to ask the user to enter the number of numbers in the sequence to generate.(Hint: The Fibonnaci sequence is a sequence of numbers where the next number in the sequence is the sum of the previous two numbers in the sequence. The sequence looks like this: 1, 1, 2, 3, 5, 8, 13, …)**"
   ]
  },
  {
   "cell_type": "code",
   "execution_count": 9,
   "metadata": {
    "colab": {
     "base_uri": "https://localhost:8080/",
     "height": 86
    },
    "colab_type": "code",
    "id": "EAS-1scs7hRZ",
    "outputId": "8fbf660d-0402-4437-df87-0bca387a97a2"
   },
   "outputs": [
    {
     "name": "stdout",
     "output_type": "stream",
     "text": [
      "How many?6\n",
      "[1, 1, 2, 3, 5, 8]\n",
      "5\n"
     ]
    },
    {
     "data": {
      "text/plain": [
       "'5'"
      ]
     },
     "execution_count": 9,
     "metadata": {
      "tags": []
     },
     "output_type": "execute_result"
    }
   ],
   "source": [
    "def fibo():\n",
    "    initial = 1\n",
    "    how = int(input(\"How many?\"))    \n",
    "    if how == 0:\n",
    "        fl = []\n",
    "    elif how == 1:\n",
    "        fl = [1]\n",
    "    elif how == 2:\n",
    "        fl = [1,1]\n",
    "    elif how > 2:\n",
    "        fl = [1,1]\n",
    "        while initial < (how - 1):\n",
    "            fl.append(fl[initial] + fl[initial-1])\n",
    "            initial += 1\n",
    "    return fl\n",
    "\n",
    "print(fibo())\n",
    "input()"
   ]
  },
  {
   "cell_type": "markdown",
   "metadata": {
    "colab_type": "text",
    "id": "51Aul4qE-MuB"
   },
   "source": [
    "**6. Write a function that evaluates if a given list satisfy Fibonacci sequence returning true or false if the list satisfy the criteria**"
   ]
  },
  {
   "cell_type": "code",
   "execution_count": 16,
   "metadata": {
    "colab": {
     "base_uri": "https://localhost:8080/",
     "height": 34
    },
    "colab_type": "code",
    "id": "54lqUDWT-NiJ",
    "outputId": "d0d76cbf-2b91-4a2f-848e-a7cf6212bb4b"
   },
   "outputs": [
    {
     "name": "stdout",
     "output_type": "stream",
     "text": [
      "Satisfy:  False\n"
     ]
    }
   ],
   "source": [
    "def isPS(i): \n",
    "    s = int(math.sqrt(i)) \n",
    "    return s*s == i \n",
    "  \n",
    "def isFibo(n):       \n",
    "    return isPS(5*n*n + 4) or isPS(5*n*n - 4)\n",
    "\n",
    "def checkListFibo(l):\n",
    "    flag = True;\n",
    "    for i in l:\n",
    "        if(isFibo(i)==False):\n",
    "            flag = False;\n",
    "            break;\n",
    "    print(\"Satisfy: \" , flag);\n",
    "\n",
    "l= [1, 1, 2, 3, 8, 62]\n",
    "checkListFibo(l)"
   ]
  },
  {
   "cell_type": "markdown",
   "metadata": {
    "colab_type": "text",
    "id": "9RQQ33HYCJKM"
   },
   "source": [
    "**7. Write a password generator function in Python. Be creative with how you generate passwords - strong passwords have a mix of lowercase letters, uppercase letters, numbers, and symbols. The passwords should be random, generating a new password every time the user asks for a new password.**\n"
   ]
  },
  {
   "cell_type": "code",
   "execution_count": 18,
   "metadata": {
    "colab": {
     "base_uri": "https://localhost:8080/",
     "height": 69
    },
    "colab_type": "code",
    "id": "Znmlu2jkCJV0",
    "outputId": "61555c12-3da6-4cdc-b9c2-643c7b4d4de1"
   },
   "outputs": [
    {
     "name": "stdout",
     "output_type": "stream",
     "text": [
      "zeQ8UHqZ\n",
      "tjuDleVXYd\n",
      "Vn)4x$TtJL5i*wm\n"
     ]
    }
   ],
   "source": [
    "def passwordGenerator(l):    \n",
    "    chars = \"abcdefghijklmnopqrstuvwxyz01234567890ABCDEFGHIJKLMNOPQRSTUVWXYZ!@#$%^&*()?\"\n",
    "    return \"\".join(random.sample(chars,l)) \n",
    "       \n",
    "print(passwordGenerator(8))   \n",
    "print(passwordGenerator(10))\n",
    "print(passwordGenerator(15))"
   ]
  },
  {
   "cell_type": "markdown",
   "metadata": {
    "colab_type": "text",
    "id": "9l1t7XFWDTfb"
   },
   "source": [
    "**8. Write a module containing different function that computes:**\n",
    "1.   Sample mean\n",
    "2.   Sample standard deviation\n",
    "3.   Median\n",
    "4.   A function that returns the n-quartil \n",
    "5.  A function that returns the n-percentil\n"
   ]
  },
  {
   "cell_type": "code",
   "execution_count": 39,
   "metadata": {
    "colab": {
     "base_uri": "https://localhost:8080/",
     "height": 190
    },
    "colab_type": "code",
    "id": "JW54KJEBDTqU",
    "outputId": "8f4a054e-6679-422a-9b9e-3bce7916c1f9"
   },
   "outputs": [
    {
     "name": "stdout",
     "output_type": "stream",
     "text": [
      "Mean:  5317.408653846154\n",
      "SD:  2762.7098547722812\n",
      "Quartile 1:  2688\n",
      "Median:  5700.0\n",
      "Quartile 3:  7579.5\n",
      "Percentile 10% :  1664.3000000000002\n",
      "Percentile 25% :  2838.0\n",
      "Percentile 50% :  5700.0\n",
      "Percentile 75% :  7574.75\n",
      "Percentile 100% :  9948\n"
     ]
    }
   ],
   "source": [
    "def calculate_sd(d):\n",
    "    m = calculate_mean(d)\n",
    "    v = sum([((i - m) ** 2) for i in d]) / len(d)\n",
    "    return  v ** 0.5\n",
    "\n",
    "def calculate_mean(n):\n",
    "    return sum(n)/len(n)\n",
    "\n",
    "def calculate_median(d):            \n",
    "    d.sort()\n",
    "    n= len(d)     \n",
    "    if n % 2 == 0: \n",
    "        m1 = d[n//2] \n",
    "        m2 = d[n//2 - 1] \n",
    "        m = (m1 + m2)/2\n",
    "    else: \n",
    "        m = d[n//2] \n",
    "    return str(m)\n",
    "\n",
    "def calculate_quartile(d,q):    \n",
    "    d.sort()\n",
    "    if(q==1):        \n",
    "        lm = int( round( ( len(d) + 1 ) / 4.0 ) - 1 )\n",
    "        lq = d[lm]\n",
    "        return lq;\n",
    "    if(q==2):\n",
    "        return calculate_median(d)\n",
    "    if(q==3):        \n",
    "        try:\n",
    "            hm = ( len( d ) - 1 ) * 0.75\n",
    "            uq = d[ hm ]\n",
    "            return uq\n",
    "        except TypeError:               \n",
    "            ceil = int( math.ceil( hm ) )\n",
    "            floor = int( math.floor( hm ) )\n",
    "            uq = ( d[ ceil ] + d[ floor ] ) / 2\n",
    "            return uq\n",
    "\n",
    "def calculate_percentile(d, p, key=lambda x:x):\n",
    "    d.sort()\n",
    "\n",
    "    k = (len(d)-1) * p\n",
    "    f = math.floor(k)\n",
    "    c = math.ceil(k)\n",
    "    if f == c:\n",
    "        return key(d[int(k)])\n",
    "    pp0 = key(d[int(f)]) * (c-k)    \n",
    "    pp1 = key(d[int(c)]) * (k-f)\n",
    "    return pp0+pp1            \n",
    "\n",
    "                \n",
    "data = [1880,9914,5528,4723,2391,4551,8623,9827,3084,618,4176,3621,5736,7045,7208,2281,7243,5924,8083,3234,6329,9100,6648,5793,118,6587,1602,2671,7934,9599,7470,3952,\n",
    "        4655,5911,4960,4094,7628,2197,7539,9677,5980,8893,3996,8506,2394,3878,3570,5102,2592,4216,6094,6428,8218,6442,22,1239,1329,1890,5971,5005,3017,6068,3793,8516,\n",
    "        1704,8612,1799,7570,8573,2596,3261,5036,3084,8389,3417,5529,3176,8680,4820,9513,6956,9925,8161,6512,4462,4993,6835,7589,3744,8090,9415,7266,7304,8924,6049,1400,\n",
    "        974,5351,2888,2072,1968,2228,643,4688,8559,9520,1281,6468,7903,1188,8281,250,3227,9948,3093,6592,6108,389,404,675,9485,8663,2220,8341,7233,7143,4691,8515,\n",
    "        7685,7557,7505,8193,5845,6418,6567,4749,2025,2056,3283,9230,4739,4247,256,7381,8409,3754,7497,9650,2157,6929,7029,2241,8421,5755,3265,4580,6164,827,8763,5487,\n",
    "        6815,1710,3179,8233,456,6374,8124,9118,2660,1950,6585,7101,8697,3922,8850,9136,9292,8734,7146,1968,2688,4698,4299,258,9309,6497,8184,8162,6389,2567,9396,5664,\n",
    "        7143,7457,4676,6819,6042,4392,1769,1691,2078,2499,4807,2259,1428,5162,1951,1337]\n",
    "\n",
    "print(\"Mean: \", calculate_mean(data))\n",
    "print(\"SD: \", calculate_sd(data))\n",
    "print(\"Quartile 1: \", calculate_quartile(data, 1))\n",
    "print(\"Median: \", calculate_median(data))\n",
    "print(\"Quartile 3: \", calculate_quartile(data, 3))\n",
    "print(\"Percentile 10% : \",calculate_percentile(data, 0.10))\n",
    "print(\"Percentile 25% : \", calculate_percentile(data, 0.25))\n",
    "print(\"Percentile 50% : \",calculate_percentile(data, 0.50))\n",
    "print(\"Percentile 75% : \",calculate_percentile(data, 0.75))\n",
    "print(\"Percentile 100% : \",calculate_percentile(data, 1))\n",
    "\n"
   ]
  },
  {
   "cell_type": "markdown",
   "metadata": {
    "colab_type": "text",
    "id": "ndVWVnggXSXk"
   },
   "source": [
    "**9. Write a function that converts a decimal number into a Roman format**"
   ]
  },
  {
   "cell_type": "code",
   "execution_count": 46,
   "metadata": {
    "colab": {
     "base_uri": "https://localhost:8080/",
     "height": 52
    },
    "colab_type": "code",
    "id": "146aRgByXSjM",
    "outputId": "191901a1-934a-40dc-af3a-f3253e142a27"
   },
   "outputs": [
    {
     "name": "stdout",
     "output_type": "stream",
     "text": [
      "2585 :  MMDLXXXV\n",
      "2020 :  MMXX\n"
     ]
    }
   ],
   "source": [
    "def convertTo_Roman(n): \n",
    "    \n",
    "    romanos = [\"I\", \"IV\", \"V\", \"IX\", \"X\", \"XL\", \"L\", \"XC\", \"C\", \"CD\", \"D\", \"CM\", \"M\"] \n",
    "    decimales = [1, 4, 5, 9, 10, 40, 50, 90,  100, 400, 500, 900, 1000] \n",
    "\n",
    "    itera = 12\n",
    "    r=[];\n",
    "    while n: \n",
    "        d = n // decimales[itera] \n",
    "        n %= decimales[itera] \n",
    "        while d:\n",
    "            r.append(romanos[itera])             \n",
    "            d -= 1\n",
    "        itera -= 1\n",
    "    return r;\n",
    "\n",
    "print(\"2585 : \", \"\".join(convertTo_Roman(2585)));\n",
    "print(\"2020 : \", \"\".join(convertTo_Roman(2020)));"
   ]
  }
 ],
 "metadata": {
  "colab": {
   "name": "Untitled21.ipynb",
   "provenance": []
  },
  "kernelspec": {
   "display_name": "Python 3",
   "language": "python",
   "name": "python3"
  },
  "language_info": {
   "codemirror_mode": {
    "name": "ipython",
    "version": 3
   },
   "file_extension": ".py",
   "mimetype": "text/x-python",
   "name": "python",
   "nbconvert_exporter": "python",
   "pygments_lexer": "ipython3",
   "version": "3.7.2"
  }
 },
 "nbformat": 4,
 "nbformat_minor": 1
}
