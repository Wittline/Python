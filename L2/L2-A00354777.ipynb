{
 "cells": [
  {
   "cell_type": "markdown",
   "metadata": {
    "colab_type": "text",
    "id": "73oSjqcZICTC"
   },
   "source": [
    "# **Development Exercises – L2**\n",
    "\n",
    "## **Created by Ramses Alexander Coraspe Valdez**\n",
    "## **Created on February 24, 2020**"
   ]
  },
  {
   "cell_type": "code",
   "execution_count": 0,
   "metadata": {
    "colab": {},
    "colab_type": "code",
    "id": "l46YbgahQXR5"
   },
   "outputs": [],
   "source": [
    "import csv"
   ]
  },
  {
   "cell_type": "markdown",
   "metadata": {
    "colab_type": "text",
    "id": "pycqJ9dhEa58"
   },
   "source": [
    "**10. Create a class called myPowerList, implement methods for**\n",
    "1.   **Adding items**\n",
    "2.   **Removing the n-th item**\n",
    "\n",
    "**11. Add a method in myPowerList to return the sorted list Do not use list.sort, implement the algorithm iterating in the list**\n",
    "\n",
    "**12. Add a method in myPowerList to merge another list with the current list**\n",
    "1.   **Lmerge (merge the list as prefix)**\n",
    "2.   **Rmerge (merge the list as suffix)**\n",
    "\n",
    "**13. Add a method in myPowerList to save the current list as a text file**\n",
    "1.   **saveToTextFile(filename)**\n",
    "\n",
    "**14. Add a method in myPowerList to read values for a List from a Text file**\n",
    "1.   **readFromTextFile(filename)**\n"
   ]
  },
  {
   "cell_type": "code",
   "execution_count": 96,
   "metadata": {
    "colab": {
     "base_uri": "https://localhost:8080/",
     "height": 104
    },
    "colab_type": "code",
    "id": "hvom4QbHVAwb",
    "outputId": "987ca409-b9ae-4ea1-cfb3-2e43451cb328"
   },
   "outputs": [
    {
     "name": "stdout",
     "output_type": "stream",
     "text": [
      "[1, 3, 6, 2, 4]\n",
      "[1, 2, 3, 4, 6]\n",
      "['test1', 'test2', 'test3', 1, 2, 3, 4, 6]\n",
      "['test1', 'test2', 'test3', 2, 3, 4, 6]\n"
     ]
    },
    {
     "data": {
      "text/plain": [
       "['test1\\n', 'test2\\n', 'test3\\n', '2\\n', '3\\n', '4\\n', '6\\n']"
      ]
     },
     "execution_count": 96,
     "metadata": {
      "tags": []
     },
     "output_type": "execute_result"
    }
   ],
   "source": [
    "class myPowerList:\n",
    "    def __init__(self):\n",
    "        self.myList = [];\n",
    "\n",
    "    def add(self, e):\n",
    "        self.myList.append(e);\n",
    "\n",
    "    def remove(self, i):\n",
    "        self.myList.pop(i);\n",
    "\n",
    "    def partition(self,arr,low,high): \n",
    "        i = ( low-1 )    \n",
    "        pivot = arr[high] \n",
    "    \n",
    "        for j in range(low , high):                 \n",
    "            if   arr[j] < pivot:                             \n",
    "                i = i+1 \n",
    "                arr[i],arr[j] = arr[j],arr[i] \n",
    "    \n",
    "        arr[i+1],arr[high] = arr[high],arr[i+1] \n",
    "        return ( i+1 )                \n",
    "\n",
    "    def quickSort(self, arr,low,high): \n",
    "        if low < high: \n",
    "            pi = self.partition(arr,low,high)     \n",
    "            self.quickSort(arr, low, pi-1) \n",
    "            self.quickSort(arr, pi+1, high)        \n",
    "\n",
    "    def get_sorted(self):\n",
    "        self.quickSort(self.myList,0,len(self.myList)-1);\n",
    "\n",
    "    def merge(self, l, d):\n",
    "        if(d=='p'):\n",
    "            self.myList= self.myList + l;\n",
    "        else:\n",
    "            self.myList=  l + self.myList;\n",
    "    \n",
    "    def getList(self):\n",
    "        return self.myList;              \n",
    "\n",
    "    def saveToTextFile(self, filename):\n",
    "        with open(filename, \"w\", newline='') as outfile:\n",
    "              for r in self.myList:\n",
    "                  outfile.write(str(r) + \"\\n\")                \n",
    "\n",
    "    def saveToCSVFile(self, filename):\n",
    "        with open(filename, 'w',newline='') as csvfile:\n",
    "            writer = csv.writer(csvfile)\n",
    "            writer.writerow(['Name', 'Address', 'Phone', 'Email'])\n",
    "            for r in self.myList:\n",
    "                writer.writerow([r.Name, r.Address, r.Phone, r.Email])\n",
    "    \n",
    "    def readFromCSVFile (self, filename):\n",
    "        with open(filename) as f:\n",
    "            reader = csv.reader(f)\n",
    "            data = [r for r in reader]\n",
    "            data.pop(0);\n",
    "            self.myList = data;            \n",
    "        \n",
    "    def readFromTextFile(self, filename):\n",
    "        return open(filename).readlines()\n",
    "\n",
    "    def searchInList(self, t):\n",
    "        match=[];\n",
    "        for r in self.myList:\n",
    "            m = [s for s in r if (t in s)];\n",
    "            if(len(m)>0):\n",
    "                match.append(r);\n",
    "        return match;                    \n",
    "\n",
    "\n",
    "li= myPowerList();\n",
    "li.add(1);\n",
    "li.add(3);\n",
    "li.add(6);\n",
    "li.add(2);\n",
    "li.add(4);\n",
    "print(li.getList());\n",
    "li.get_sorted()\n",
    "print(li.getList());\n",
    "newList= [\"test1\", \"test2\", \"test3\"]\n",
    "li.merge(newList,'s')\n",
    "print(li.getList());\n",
    "li.remove(3)\n",
    "print(li.getList());\n",
    "li.saveToTextFile(\"file.csv\")\n",
    "li.readFromTextFile(\"file.csv\")"
   ]
  },
  {
   "cell_type": "markdown",
   "metadata": {
    "colab_type": "text",
    "id": "kGqDgXmfGYGF"
   },
   "source": [
    "**15. Create a class to manage a directory of users containing data**\n",
    "\n",
    "\n",
    "*   **Name**\n",
    "*   **Address**\n",
    "*   **Phone**\n",
    "*   **Email**\n",
    "\n",
    "**The class must be enable:**\n",
    "1.   **Creation of new record**\n",
    "2.   **Save all records in a file**\n",
    "3.   **Load records from a file**\n",
    "4.   **Search and get data from a given record**"
   ]
  },
  {
   "cell_type": "code",
   "execution_count": 0,
   "metadata": {
    "colab": {},
    "colab_type": "code",
    "id": "_745MDfQmK6N"
   },
   "outputs": [],
   "source": [
    "class directory:\n",
    "    def __init__(self, n, a, p, e):\n",
    "        self.Name= n\n",
    "        self.Address = a\n",
    "        self.Phone= p\n",
    "        self.Email = e             "
   ]
  },
  {
   "cell_type": "code",
   "execution_count": 98,
   "metadata": {
    "colab": {
     "base_uri": "https://localhost:8080/",
     "height": 69
    },
    "colab_type": "code",
    "id": "nv63syecrs1X",
    "outputId": "11bd1597-c89b-4581-a62d-b2c52064841f"
   },
   "outputs": [
    {
     "name": "stdout",
     "output_type": "stream",
     "text": [
      "[['Ramses', 'Jalisco', '555555', 'test@gmail.com'], ['Gerardo', 'Jalisco', '555555', 'gerardo@gmail.com']]\n",
      "[['Ramses', 'Jalisco', '555555', 'test@gmail.com']]\n",
      "[['Gerardo', 'Jalisco', '555555', 'gerardo@gmail.com']]\n"
     ]
    }
   ],
   "source": [
    "li= myPowerList();\n",
    "\n",
    "li.add(directory(\"Ramses\", \"Jalisco\", \"555555\", \"test@gmail.com\"));\n",
    "li.add(directory(\"Gerardo\", \"Jalisco\", \"555555\", \"gerardo@gmail.com\"));\n",
    "li.saveToCSVFile(\"file.csv\")\n",
    "li.readFromCSVFile(\"file.csv\");\n",
    "print(li.getList());\n",
    "print(li.searchInList(\"Ram\"))\n",
    "print(li.searchInList(\"Ger\"))\n",
    "\n",
    "\n"
   ]
  }
 ],
 "metadata": {
  "colab": {
   "name": "Untitled22.ipynb",
   "provenance": []
  },
  "kernelspec": {
   "display_name": "Python 3",
   "language": "python",
   "name": "python3"
  },
  "language_info": {
   "codemirror_mode": {
    "name": "ipython",
    "version": 3
   },
   "file_extension": ".py",
   "mimetype": "text/x-python",
   "name": "python",
   "nbconvert_exporter": "python",
   "pygments_lexer": "ipython3",
   "version": "3.7.2"
  }
 },
 "nbformat": 4,
 "nbformat_minor": 1
}
